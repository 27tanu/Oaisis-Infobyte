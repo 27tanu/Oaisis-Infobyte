{
 "cells": [
  {
   "cell_type": "code",
   "execution_count": 1,
   "id": "c3d5fe2e",
   "metadata": {},
   "outputs": [],
   "source": [
    "import pandas as pd\n",
    "import numpy as np\n",
    "import matplotlib.pyplot as plt\n",
    "import seaborn as sns"
   ]
  },
  {
   "cell_type": "code",
   "execution_count": 2,
   "id": "27c12ae4",
   "metadata": {},
   "outputs": [],
   "source": [
    "df = pd.read_csv(r\"C:\\Users\\shan2\\files\\data.csv\")"
   ]
  },
  {
   "cell_type": "code",
   "execution_count": 3,
   "id": "0d1ad8c6",
   "metadata": {},
   "outputs": [
    {
     "data": {
      "text/html": [
       "<div>\n",
       "<style scoped>\n",
       "    .dataframe tbody tr th:only-of-type {\n",
       "        vertical-align: middle;\n",
       "    }\n",
       "\n",
       "    .dataframe tbody tr th {\n",
       "        vertical-align: top;\n",
       "    }\n",
       "\n",
       "    .dataframe thead th {\n",
       "        text-align: right;\n",
       "    }\n",
       "</style>\n",
       "<table border=\"1\" class=\"dataframe\">\n",
       "  <thead>\n",
       "    <tr style=\"text-align: right;\">\n",
       "      <th></th>\n",
       "      <th>review</th>\n",
       "      <th>rating</th>\n",
       "    </tr>\n",
       "  </thead>\n",
       "  <tbody>\n",
       "    <tr>\n",
       "      <th>0</th>\n",
       "      <td>It was nice produt. I like it's design a lot. ...</td>\n",
       "      <td>5</td>\n",
       "    </tr>\n",
       "    <tr>\n",
       "      <th>1</th>\n",
       "      <td>awesome sound....very pretty to see this nd th...</td>\n",
       "      <td>5</td>\n",
       "    </tr>\n",
       "    <tr>\n",
       "      <th>2</th>\n",
       "      <td>awesome sound quality. pros 7-8 hrs of battery...</td>\n",
       "      <td>4</td>\n",
       "    </tr>\n",
       "    <tr>\n",
       "      <th>3</th>\n",
       "      <td>I think it is such a good product not only as ...</td>\n",
       "      <td>5</td>\n",
       "    </tr>\n",
       "    <tr>\n",
       "      <th>4</th>\n",
       "      <td>awesome bass sound quality very good bettary l...</td>\n",
       "      <td>5</td>\n",
       "    </tr>\n",
       "  </tbody>\n",
       "</table>\n",
       "</div>"
      ],
      "text/plain": [
       "                                              review  rating\n",
       "0  It was nice produt. I like it's design a lot. ...       5\n",
       "1  awesome sound....very pretty to see this nd th...       5\n",
       "2  awesome sound quality. pros 7-8 hrs of battery...       4\n",
       "3  I think it is such a good product not only as ...       5\n",
       "4  awesome bass sound quality very good bettary l...       5"
      ]
     },
     "execution_count": 3,
     "metadata": {},
     "output_type": "execute_result"
    }
   ],
   "source": [
    "df.head()"
   ]
  },
  {
   "cell_type": "code",
   "execution_count": 4,
   "id": "31324d9e",
   "metadata": {},
   "outputs": [
    {
     "data": {
      "text/plain": [
       "(9976, 2)"
      ]
     },
     "execution_count": 4,
     "metadata": {},
     "output_type": "execute_result"
    }
   ],
   "source": [
    "df.shape"
   ]
  },
  {
   "cell_type": "code",
   "execution_count": 5,
   "id": "eb9fec0c",
   "metadata": {},
   "outputs": [
    {
     "data": {
      "text/plain": [
       "Series([], dtype: int64)"
      ]
     },
     "execution_count": 5,
     "metadata": {},
     "output_type": "execute_result"
    }
   ],
   "source": [
    "df.isnull().sum()[df.isnull().sum()>0]"
   ]
  },
  {
   "cell_type": "code",
   "execution_count": 6,
   "id": "791c6099",
   "metadata": {},
   "outputs": [
    {
     "data": {
      "text/plain": [
       "rating\n",
       "5    5726\n",
       "4    2365\n",
       "3     884\n",
       "1     691\n",
       "2     310\n",
       "Name: count, dtype: int64"
      ]
     },
     "execution_count": 6,
     "metadata": {},
     "output_type": "execute_result"
    }
   ],
   "source": [
    "df.rating.value_counts()"
   ]
  },
  {
   "cell_type": "code",
   "execution_count": 7,
   "id": "64f3521b",
   "metadata": {},
   "outputs": [
    {
     "data": {
      "text/plain": [
       "(array([ 691.,    0.,  310.,    0.,    0.,  884.,    0., 2365.,    0.,\n",
       "        5726.]),\n",
       " array([1. , 1.4, 1.8, 2.2, 2.6, 3. , 3.4, 3.8, 4.2, 4.6, 5. ]),\n",
       " <BarContainer object of 10 artists>)"
      ]
     },
     "execution_count": 7,
     "metadata": {},
     "output_type": "execute_result"
    },
    {
     "data": {
      "image/png": "[encoded data removed]",
      "text/plain": [
       "<Figure size 640x480 with 1 Axes>"
      ]
     },
     "metadata": {},
     "output_type": "display_data"
    }
   ],
   "source": [
    "plt.hist(df.rating , color='red')"
   ]
  },
  {
   "cell_type": "code",
   "execution_count": 8,
   "id": "daa868f0",
   "metadata": {},
   "outputs": [
    {
     "data": {
      "text/plain": [
       "rating\n",
       "5    5726\n",
       "4    2365\n",
       "3     884\n",
       "1     691\n",
       "2     310\n",
       "Name: count, dtype: int64"
      ]
     },
     "execution_count": 8,
     "metadata": {},
     "output_type": "execute_result"
    }
   ],
   "source": [
    "df.rating.value_counts()"
   ]
  },
  {
   "cell_type": "code",
   "execution_count": 9,
   "id": "bcf486be",
   "metadata": {},
   "outputs": [
    {
     "data": {
      "text/plain": [
       "rating\n",
       " 1    8091\n",
       "-1    1001\n",
       " 0     884\n",
       "Name: count, dtype: int64"
      ]
     },
     "execution_count": 9,
     "metadata": {},
     "output_type": "execute_result"
    }
   ],
   "source": [
    "df.rating.replace({1:-1 , 2:-1 , 3:0 , 4:1 , 5:1} , inplace=True)\n",
    "\n",
    "df.rating.value_counts()"
   ]
  },
  {
   "cell_type": "code",
   "execution_count": 10,
   "id": "355621e8",
   "metadata": {},
   "outputs": [],
   "source": [
    "# Working on reviews"
   ]
  },
  {
   "cell_type": "code",
   "execution_count": 11,
   "id": "9d702893",
   "metadata": {},
   "outputs": [
    {
     "data": {
      "text/plain": [
       "\"It was nice produt. I like it's design a lot.  It's easy to carry. And.   Looked stylish.READ MORE\""
      ]
     },
     "execution_count": 11,
     "metadata": {},
     "output_type": "execute_result"
    }
   ],
   "source": [
    "df.review[0]"
   ]
  },
  {
   "cell_type": "code",
   "execution_count": 12,
   "id": "93a3b5ec",
   "metadata": {},
   "outputs": [],
   "source": [
    "import nltk"
   ]
  },
  {
   "cell_type": "code",
   "execution_count": 13,
   "id": "9ae6099e",
   "metadata": {},
   "outputs": [],
   "source": [
    "from nltk.corpus import stopwords"
   ]
  },
  {
   "cell_type": "code",
   "execution_count": 14,
   "id": "e29d033f",
   "metadata": {},
   "outputs": [],
   "source": [
    "l1 = stopwords.words('english')"
   ]
  },
  {
   "cell_type": "code",
   "execution_count": 15,
   "id": "0141082d",
   "metadata": {},
   "outputs": [],
   "source": [
    "import string"
   ]
  },
  {
   "cell_type": "code",
   "execution_count": 16,
   "id": "249b4883",
   "metadata": {},
   "outputs": [
    {
     "data": {
      "text/plain": [
       "'!\"#$%&\\'()*+,-./:;<=>?@[\\\\]^_`{|}~'"
      ]
     },
     "execution_count": 16,
     "metadata": {},
     "output_type": "execute_result"
    }
   ],
   "source": [
    "string.punctuation"
   ]
  },
  {
   "cell_type": "code",
   "execution_count": 17,
   "id": "7d070d34",
   "metadata": {},
   "outputs": [],
   "source": [
    "def remove_special(text):\n",
    "    x=''\n",
    "    for i in text:\n",
    "        if i.isalnum():\n",
    "            x=x+i\n",
    "        else:\n",
    "            x=x+' '\n",
    "    return x"
   ]
  },
  {
   "cell_type": "code",
   "execution_count": 18,
   "id": "e7fcfd23",
   "metadata": {},
   "outputs": [],
   "source": [
    "df['review']=df['review'].apply(remove_special)"
   ]
  },
  {
   "cell_type": "code",
   "execution_count": 19,
   "id": "ee961acf",
   "metadata": {},
   "outputs": [],
   "source": [
    "def text_process(mess):\n",
    "    \"\"\"\n",
    "    1. removes punctuations\n",
    "    2. remove stopwords\n",
    "    3. return the list of clean text words\n",
    "    \"\"\"\n",
    "    nonpunc = [ char for char in mess if char  not in string.punctuation]\n",
    "    nonpunc = \"\".join(nonpunc)\n",
    "    \n",
    "    return[word for word in nonpunc.split() if word not in l1]"
   ]
  },
  {
   "cell_type": "code",
   "execution_count": 118,
   "id": "5a4478e5",
   "metadata": {},
   "outputs": [],
   "source": [
    "df.review = df.review.str.lower()  # converting in lower case"
   ]
  },
  {
   "cell_type": "code",
   "execution_count": 21,
   "id": "6155fb1d",
   "metadata": {},
   "outputs": [
    {
     "data": {
      "text/plain": [
       "0       it was nice produt  i like it s design a lot  ...\n",
       "1       awesome sound    very pretty to see this nd th...\n",
       "2       awesome sound quality  pros 7 8 hrs of battery...\n",
       "3       i think it is such a good product not only as ...\n",
       "4       awesome bass sound quality very good bettary l...\n",
       "                              ...                        \n",
       "9971                                        goodread more\n",
       "9972    everything is amazimg but the built is very li...\n",
       "9973                                        goodread more\n",
       "9974         best headphone i have ever used    read more\n",
       "9975                                        niceread more\n",
       "Name: review, Length: 9976, dtype: object"
      ]
     },
     "execution_count": 21,
     "metadata": {},
     "output_type": "execute_result"
    }
   ],
   "source": [
    "df.review"
   ]
  },
  {
   "cell_type": "code",
   "execution_count": 22,
   "id": "0df0ed02",
   "metadata": {},
   "outputs": [],
   "source": [
    "from sklearn.feature_extraction.text import CountVectorizer"
   ]
  },
  {
   "cell_type": "code",
   "execution_count": 23,
   "id": "ea4ccf9a",
   "metadata": {},
   "outputs": [],
   "source": [
    "review_count = CountVectorizer(analyzer=text_process).fit(df['review'])"
   ]
  },
  {
   "cell_type": "code",
   "execution_count": 24,
   "id": "1164a191",
   "metadata": {},
   "outputs": [
    {
     "data": {
      "text/plain": [
       "{'nice': 4340,\n",
       " 'produt': 5032,\n",
       " 'like': 3796,\n",
       " 'design': 2072,\n",
       " 'lot': 3891,\n",
       " 'easy': 2347,\n",
       " 'carry': 1425,\n",
       " 'looked': 3864,\n",
       " 'stylish': 6108,\n",
       " 'read': 5267,\n",
       " 'awesome': 777,\n",
       " 'sound': 5916,\n",
       " 'pretty': 4922,\n",
       " 'see': 5643,\n",
       " 'nd': 4301,\n",
       " 'quality': 5143,\n",
       " 'good': 2963,\n",
       " 'wish': 7010,\n",
       " 'take': 6263,\n",
       " 'product': 4991,\n",
       " 'loved': 3905,\n",
       " 'pros': 5063,\n",
       " '7': 344,\n",
       " '8': 358,\n",
       " 'hrs': 3338,\n",
       " 'battery': 974,\n",
       " 'life': 3782,\n",
       " 'including': 3434,\n",
       " '45': 248,\n",
       " 'mins': 4129,\n",
       " 'approx': 644,\n",
       " 'call': 1369,\n",
       " 'time': 6459,\n",
       " 'output': 4565,\n",
       " 'bass': 913,\n",
       " 'treble': 6549,\n",
       " 'really': 5280,\n",
       " 'clear': 1560,\n",
       " 'without': 7016,\n",
       " 'equaliser': 2444,\n",
       " 'wary': 6879,\n",
       " 'depends': 2054,\n",
       " 'handset': 3104,\n",
       " 'weightless': 6935,\n",
       " 'head': 3156,\n",
       " 'toomic': 6502,\n",
       " 'traffic': 6536,\n",
       " '3': 208,\n",
       " '25': 182,\n",
       " '5': 267,\n",
       " '5mm': 308,\n",
       " 'option': 4508,\n",
       " 'important': 3400,\n",
       " 'mention': 4062,\n",
       " 'expecting': 2553,\n",
       " 'leading': 3738,\n",
       " 'brands': 1224,\n",
       " 'implement': 3398,\n",
       " 'consvery': 1770,\n",
       " 'tight': 6447,\n",
       " 'ears': 2335,\n",
       " 'adjusters': 488,\n",
       " 'ok': 4453,\n",
       " 'think': 6373,\n",
       " 'per': 4720,\n",
       " 'also': 568,\n",
       " 'quite': 5199,\n",
       " 'using': 6728,\n",
       " 'january': 3590,\n",
       " 'pandamic': 4660,\n",
       " 'situation': 5790,\n",
       " 'became': 1008,\n",
       " 'useful': 6712,\n",
       " 'helpful': 3255,\n",
       " 'overall': 4579,\n",
       " 'another': 612,\n",
       " 'thing': 6370,\n",
       " 'give': 2939,\n",
       " 'sigh': 5766,\n",
       " 'relief': 5366,\n",
       " 'provide': 5087,\n",
       " 'wire': 6996,\n",
       " 'help': 3254,\n",
       " 'case': 1431,\n",
       " 'lacking': 3695,\n",
       " 'charges': 1480,\n",
       " 'bettary': 1071,\n",
       " 'long': 3855,\n",
       " 'purchase': 5110,\n",
       " 'rs': 5528,\n",
       " '999': 398,\n",
       " 'grateful': 3027,\n",
       " 'forget': 2819,\n",
       " 'likeread': 3799,\n",
       " 'awsome': 806,\n",
       " 'powerful': 4883,\n",
       " 'backup': 835,\n",
       " 'excellent': 2495,\n",
       " 'huge': 3345,\n",
       " 'lover': 3910,\n",
       " 'music': 4268,\n",
       " 'build': 1293,\n",
       " 'first': 2738,\n",
       " 'bought': 1205,\n",
       " 'headphone': 3177,\n",
       " 'electronics': 2386,\n",
       " 'item': 3555,\n",
       " 'glad': 2945,\n",
       " 'say': 5601,\n",
       " 'thanks': 6335,\n",
       " 'boat': 1158,\n",
       " 'making': 3966,\n",
       " 'keep': 3646,\n",
       " 'flipkart': 2776,\n",
       " 'team': 6285,\n",
       " 'delivering': 2034,\n",
       " 'risking': 5480,\n",
       " 'lif': 3781,\n",
       " 'obviously': 4424,\n",
       " 'valuable': 6750,\n",
       " 'money': 4188,\n",
       " 'guys': 3070,\n",
       " 'daut': 1958,\n",
       " 'u': 6602,\n",
       " 'buy': 1336,\n",
       " '1': 10,\n",
       " 'awesome2': 778,\n",
       " 'bluetooth': 1143,\n",
       " 'connectivity': 1746,\n",
       " 'average3': 754,\n",
       " 'high': 3269,\n",
       " '4': 234,\n",
       " 'good5': 2967,\n",
       " 'use': 6702,\n",
       " 'charge': 1472,\n",
       " 'cron': 1879,\n",
       " 'feel': 2681,\n",
       " 'pain': 4626,\n",
       " 'ur': 6690,\n",
       " 'ear2': 2310,\n",
       " 'ear': 2309,\n",
       " 'need': 4313,\n",
       " 'price': 4928,\n",
       " 'go': 2954,\n",
       " 'moto': 4224,\n",
       " 'puls': 5103,\n",
       " 'maxfinal': 4029,\n",
       " 'opinion': 4497,\n",
       " 'want': 6861,\n",
       " 'wireless': 7000,\n",
       " 'talk': 6270,\n",
       " 'best': 1058,\n",
       " 'segment': 5654,\n",
       " 'punchy': 5108,\n",
       " 'mids': 4105,\n",
       " 'volumes': 6836,\n",
       " 'cracks': 1858,\n",
       " 'bit': 1109,\n",
       " 'otherwise': 4551,\n",
       " '9': 383,\n",
       " '10': 11,\n",
       " 'come': 1616,\n",
       " 'amazing': 581,\n",
       " 'cant': 1406,\n",
       " 'get': 2922,\n",
       " 'better': 1072,\n",
       " 'headphones': 3186,\n",
       " 'sturdy': 6103,\n",
       " 'light': 3790,\n",
       " 'made': 3948,\n",
       " 'plastic': 4798,\n",
       " 'sometimes': 5879,\n",
       " 'become': 1009,\n",
       " 'uncomforta': 6632,\n",
       " 'looking': 3865,\n",
       " 'super': 6159,\n",
       " 'fine': 2725,\n",
       " 'power': 4881,\n",
       " 'full': 2868,\n",
       " 'bassread': 944,\n",
       " 'perfect': 4724,\n",
       " 'fit': 2741,\n",
       " 'fixed': 2751,\n",
       " 'mi': 4088,\n",
       " 'a1': 414,\n",
       " 'large': 3714,\n",
       " 'range': 5230,\n",
       " 'mic': 4089,\n",
       " 'working': 7049,\n",
       " 'great': 3029,\n",
       " 'looks': 3869,\n",
       " 'n': 4285,\n",
       " 'weight': 6930,\n",
       " 'cool': 1811,\n",
       " 'couf': 1834,\n",
       " 'cheaper': 1488,\n",
       " '15': 108,\n",
       " 'minutes': 4141,\n",
       " 'sweating': 6235,\n",
       " 'base': 902,\n",
       " 'value': 6752,\n",
       " 'calling': 1374,\n",
       " 'feature': 2674,\n",
       " 'poor': 4852,\n",
       " 'since': 5777,\n",
       " '6': 328,\n",
       " 'months': 4203,\n",
       " 'songs': 5893,\n",
       " 'listen': 3816,\n",
       " 'types': 6598,\n",
       " 'song': 5889,\n",
       " 'kind': 3665,\n",
       " 'trance': 6538,\n",
       " 'edm': 2362,\n",
       " 'hindi': 3282,\n",
       " 'old': 4465,\n",
       " 'tooo': 6503,\n",
       " 'bole': 1176,\n",
       " 'paisa': 4651,\n",
       " 'vasooooolread': 6774,\n",
       " 'cannot': 1403,\n",
       " 'wear': 6910,\n",
       " 'sooo': 5904,\n",
       " 'uncomfortable': 6633,\n",
       " 'start': 6020,\n",
       " 'paining': 4639,\n",
       " 'small': 5823,\n",
       " 'size': 5792,\n",
       " 'somebody': 5870,\n",
       " 'pressing': 4915,\n",
       " 'sides': 5764,\n",
       " 'force': 2815,\n",
       " 'needs': 4316,\n",
       " 'improve': 3414,\n",
       " 'reson': 5413,\n",
       " 'star': 6016,\n",
       " 'sounds': 5932,\n",
       " 'alerts': 548,\n",
       " 'connection': 1743,\n",
       " 'low': 3920,\n",
       " 'incoming': 3436,\n",
       " 'calls': 1379,\n",
       " 'etc': 2461,\n",
       " 'plays': 4811,\n",
       " 'times': 6465,\n",
       " 'volume': 6833,\n",
       " 'usually': 6734,\n",
       " 'hear': 3221,\n",
       " 'anything': 620,\n",
       " 'notification': 4395,\n",
       " 'level': 3772,\n",
       " 'everyone': 2477,\n",
       " 'room': 5515,\n",
       " 'imagine': 3392,\n",
       " 'playing': 4807,\n",
       " 'r': 5209,\n",
       " 'wearing': 6915,\n",
       " 'blast': 1117,\n",
       " 'nowhere': 4400,\n",
       " 'loud': 3896,\n",
       " 'throw': 6421,\n",
       " 'away': 768,\n",
       " 'reason': 5287,\n",
       " 'hvnt': 3362,\n",
       " 'thrown': 6422,\n",
       " 'yet': 7132,\n",
       " 'decent': 1981,\n",
       " 'ba': 816,\n",
       " 'yes': 7129,\n",
       " 'aspect': 676,\n",
       " 'except': 2508,\n",
       " 'tried': 6561,\n",
       " 'person': 4747,\n",
       " 'clearly': 1567,\n",
       " 'irritates': 3519,\n",
       " 'something': 5874,\n",
       " 'enjoy': 2415,\n",
       " 'budget': 1272,\n",
       " 'gets': 2925,\n",
       " 'loosen': 3879,\n",
       " 'little': 3838,\n",
       " 'comfortable': 1625,\n",
       " 'big': 1095,\n",
       " 'week': 6923,\n",
       " 'got': 3011,\n",
       " 'keeping': 3648,\n",
       " 'mid': 4100,\n",
       " 'hours': 3320,\n",
       " '2': 158,\n",
       " 'day': 1959,\n",
       " 'keepi': 3647,\n",
       " 'relay': 5362,\n",
       " 'rock': 5487,\n",
       " 'compare': 1663,\n",
       " 'used': 6709,\n",
       " 'hp': 3330,\n",
       " 'lg': 3776,\n",
       " 'sony': 5900,\n",
       " 'designer': 2078,\n",
       " 'hearing': 3227,\n",
       " 'ful': 2863,\n",
       " 'back': 827,\n",
       " 'days': 1962,\n",
       " 'negative': 4317,\n",
       " 'drive': 2270,\n",
       " 'audible': 722,\n",
       " 'speaking': 5952,\n",
       " 'louder': 3898,\n",
       " 'phones': 4763,\n",
       " 'b': 815,\n",
       " 'improved': 3415,\n",
       " 'wonderful': 7025,\n",
       " '1499': 104,\n",
       " 'worth': 7072,\n",
       " 'doubt': 2247,\n",
       " 'please': 4814,\n",
       " 'customer': 1912,\n",
       " 'service': 5694,\n",
       " 'response': 5423,\n",
       " 'rate': 5251,\n",
       " 'connective': 1745,\n",
       " 'speakers': 5951,\n",
       " 'rocking': 5504,\n",
       " 'dasar': 1946,\n",
       " 'cost': 1827,\n",
       " 'reasaonble': 5285,\n",
       " 'observeve': 4418,\n",
       " 'changes': 1470,\n",
       " 'waiting': 6852,\n",
       " 'indicated': 3448,\n",
       " 'happy': 3117,\n",
       " 'delivery': 2036,\n",
       " 'goodread': 2994,\n",
       " 'heavy': 3242,\n",
       " 'saying': 5603,\n",
       " 'saw': 5600,\n",
       " 'ratings': 5260,\n",
       " 'placed': 4793,\n",
       " 'order': 4513,\n",
       " 'truly': 6568,\n",
       " 'dissatisfied': 2191,\n",
       " 'lack': 3694,\n",
       " 'shown': 5753,\n",
       " 'tracks': 6535,\n",
       " 'issues': 3536,\n",
       " 'aux': 744,\n",
       " 'mode': 4169,\n",
       " 'built': 1301,\n",
       " 'main': 3957,\n",
       " 'searching': 5630,\n",
       " 'headset': 3205,\n",
       " 'offers': 4440,\n",
       " 'period': 4738,\n",
       " 'extremely': 2590,\n",
       " 'charging': 1481,\n",
       " 'half': 3092,\n",
       " 'cons': 1755,\n",
       " 'cuffs': 1890,\n",
       " '20': 159,\n",
       " 'adjust': 482,\n",
       " 'regular': 5354,\n",
       " 'intervals': 3499,\n",
       " 'mike': 4109,\n",
       " 'worst': 7066,\n",
       " 'surrounding': 6226,\n",
       " 'noise': 4365,\n",
       " 'rating': 5258,\n",
       " 'superb': 6161,\n",
       " 'audio': 724,\n",
       " 'crystal': 1883,\n",
       " 'hesitation': 3262,\n",
       " 'deal': 1971,\n",
       " 'priceread': 4938,\n",
       " 'prize': 4953,\n",
       " 'phone': 4760,\n",
       " 'pe': 4701,\n",
       " 'app': 630,\n",
       " '700': 346,\n",
       " 'itread': 3563,\n",
       " 'today': 6486,\n",
       " 'everything': 2480,\n",
       " 'ekart': 2378,\n",
       " 'thank': 6331,\n",
       " 'iam': 3367,\n",
       " 'love': 3904,\n",
       " 'flipkartread': 2779,\n",
       " 'grt': 3054,\n",
       " 'much': 4249,\n",
       " 'impressed': 3406,\n",
       " 'iz': 3578,\n",
       " 'fast': 2650,\n",
       " 'fabulous': 2607,\n",
       " 'headband': 3162,\n",
       " 'lill': 3804,\n",
       " 'fully': 2872,\n",
       " 'satisfied': 5589,\n",
       " 'look': 3861,\n",
       " 'packaging': 4606,\n",
       " 'right': 5470,\n",
       " 'tym': 6594,\n",
       " 'delevired': 2023,\n",
       " 'thanku': 6338,\n",
       " 'wooowwww': 7038,\n",
       " 'effect': 2365,\n",
       " 'clarity': 1543,\n",
       " 'system': 6252,\n",
       " 'mobile': 4161,\n",
       " 'charger': 1477,\n",
       " 'cable': 1360,\n",
       " 'connecting': 1741,\n",
       " '1yr': 157,\n",
       " 'warranty': 6876,\n",
       " 'woooww': 7037,\n",
       " 'choice': 1517,\n",
       " 'average': 753,\n",
       " 'one': 4471,\n",
       " 'word': 7040,\n",
       " 'totally': 6520,\n",
       " 'short': 5745,\n",
       " 'timeread': 6464,\n",
       " 'headfone': 3167,\n",
       " 'beautiful': 1005,\n",
       " 'osm': 4528,\n",
       " 'flipcard': 2769,\n",
       " 'ao': 626,\n",
       " 'quickly': 5191,\n",
       " 'salute': 5576,\n",
       " 'staff': 6008,\n",
       " 'device': 2104,\n",
       " 'simply': 5775,\n",
       " 'delivered': 2032,\n",
       " 'white': 6963,\n",
       " 'neon': 4327,\n",
       " 'colour': 1607,\n",
       " 'wow': 7088,\n",
       " 'perfectly': 4727,\n",
       " 'rests': 5428,\n",
       " 'well': 6940,\n",
       " 'anywhere': 624,\n",
       " 'attractive': 716,\n",
       " 'model': 4173,\n",
       " 'classy': 1557,\n",
       " 'actually': 472,\n",
       " 'prodect': 4978,\n",
       " 'company': 1659,\n",
       " 'providing': 5090,\n",
       " 'durable': 2295,\n",
       " 'prefer': 4904,\n",
       " 'friends': 2851,\n",
       " 'productread': 5019,\n",
       " 'added': 475,\n",
       " 'nowread': 4401,\n",
       " 'slow': 5818,\n",
       " 'bad': 857,\n",
       " 'major': 3962,\n",
       " 'problem': 4959,\n",
       " 'voice': 6824,\n",
       " 'sometime': 5877,\n",
       " 'absolutely': 432,\n",
       " 'delay': 2014,\n",
       " 'pubg': 5096,\n",
       " 'synchronised': 6249,\n",
       " 'game': 2895,\n",
       " 'mainly': 3958,\n",
       " 'users': 6722,\n",
       " '2000': 161,\n",
       " 'review': 5446,\n",
       " 'hit': 3286,\n",
       " 'weeks': 6927,\n",
       " 'noice': 4363,\n",
       " 'cancellation': 1392,\n",
       " 'issue': 3534,\n",
       " 'prices': 4939,\n",
       " 'according': 451,\n",
       " 'offered': 4437,\n",
       " 'recommend': 5316,\n",
       " '1st': 152,\n",
       " 'popular': 4862,\n",
       " 'production': 5008,\n",
       " 'many': 3984,\n",
       " 'experience': 2559,\n",
       " 'rockerz': 5495,\n",
       " '400': 236,\n",
       " 'even': 2467,\n",
       " 'fond': 2810,\n",
       " 'rather': 5257,\n",
       " 'preety': 4902,\n",
       " 'buying': 1343,\n",
       " 'never': 4332,\n",
       " 'headphoneread': 3184,\n",
       " 'firstly': 2739,\n",
       " 'earlier': 2317,\n",
       " 'blazing': 1118,\n",
       " 'reviewing': 5449,\n",
       " 'comfort': 1623,\n",
       " 'frankly': 2836,\n",
       " 'satisfactory': 5586,\n",
       " 'show': 5750,\n",
       " 'front': 2857,\n",
       " 'purchased': 5111,\n",
       " 'black': 1114,\n",
       " 'red': 5330,\n",
       " 'cups': 1895,\n",
       " 'adjustable': 483,\n",
       " 'honest': 3299,\n",
       " 'sale': 5571,\n",
       " 'rs999': 5537,\n",
       " 'must': 4277,\n",
       " 'bt': 1260,\n",
       " 'still': 6048,\n",
       " 'becoz': 1012,\n",
       " 'uh': 6608,\n",
       " '10min': 59,\n",
       " 'getting': 2928,\n",
       " 'cannt': 1404,\n",
       " 'cheap': 1487,\n",
       " 'known': 3677,\n",
       " 'brand': 1220,\n",
       " 'worthy': 7082,\n",
       " 'hand': 3097,\n",
       " 'enoughread': 2427,\n",
       " 'feels': 2686,\n",
       " 'heaven': 3239,\n",
       " 'listening': 3821,\n",
       " 'fun': 2875,\n",
       " 'grabbed': 3021,\n",
       " '1099': 34,\n",
       " 'maybe': 4032,\n",
       " 'cheapest': 1489,\n",
       " 'till': 6458,\n",
       " 'wid': 6974,\n",
       " 'windows': 6992,\n",
       " 'itthanx': 3569,\n",
       " 'change': 1468,\n",
       " 'cushion': 1900,\n",
       " 'extra': 2580,\n",
       " 'properly': 5054,\n",
       " 'normally': 4380,\n",
       " 'correct': 1823,\n",
       " 'description': 2065,\n",
       " 'details': 2094,\n",
       " 'box': 1210,\n",
       " 'plug': 4822,\n",
       " 'card': 1417,\n",
       " 'user': 6719,\n",
       " 'manual': 3978,\n",
       " 'definition': 2006,\n",
       " 'balanced': 884,\n",
       " 'next': 4336,\n",
       " 'previous': 4924,\n",
       " 'function': 2876,\n",
       " 'laptop': 3710,\n",
       " 'works': 7057,\n",
       " 'games': 2901,\n",
       " 'easily': 2343,\n",
       " 'every': 2475,\n",
       " 'footsteps': 2814,\n",
       " 'confusion': 1731,\n",
       " 'vibrate': 6801,\n",
       " 'thispros': 6381,\n",
       " 'dont': 2235,\n",
       " 'know': 3675,\n",
       " 'headsets': 3210,\n",
       " 'instruments': 3489,\n",
       " 'upto': 6688,\n",
       " 'moderate': 4176,\n",
       " 'accordingly': 452,\n",
       " 'push': 5123,\n",
       " 'quic': 5189,\n",
       " 'reviw': 5456,\n",
       " 'month': 4201,\n",
       " 'condition': 1711,\n",
       " 'gaming': 2903,\n",
       " 'movies': 4236,\n",
       " 'betty': 1078,\n",
       " 'hour': 3317,\n",
       " 'work': 7044,\n",
       " 'cause': 1443,\n",
       " 'disappoint': 2152,\n",
       " 'callingread': 1376,\n",
       " 'provides': 5089,\n",
       " 'greatgo': 3035,\n",
       " 'superior': 6178,\n",
       " 'backed': 828,\n",
       " 'feather': 2673,\n",
       " 'mind': 4116,\n",
       " 'blowing': 1130,\n",
       " 'enthusiasts': 2433,\n",
       " 'wise': 7009,\n",
       " 'loving': 3918,\n",
       " 'gives': 2943,\n",
       " 'takes': 6266,\n",
       " 'almost': 560,\n",
       " 'elasticity': 2382,\n",
       " 'although': 575,\n",
       " 'extreme': 2589,\n",
       " 'skull': 5801,\n",
       " 'candy': 1402,\n",
       " 'aa': 416,\n",
       " 'wo': 7021,\n",
       " 'recommended': 5319,\n",
       " 'products': 5020,\n",
       " 'ny': 4407,\n",
       " 'luv': 3934,\n",
       " 'boatread': 1162,\n",
       " '1k': 140,\n",
       " 'summer': 6141,\n",
       " 'cancelation': 1390,\n",
       " 'connects': 1751,\n",
       " 'devices': 2105,\n",
       " 'shows': 5755,\n",
       " 'percentage': 4722,\n",
       " 'thr': 6414,\n",
       " 'coolest': 1813,\n",
       " 'often': 4446,\n",
       " 'purchaseread': 5112,\n",
       " 'queries': 5188,\n",
       " '30': 209,\n",
       " 'may': 4031,\n",
       " 'make': 3963,\n",
       " 'cup': 1894,\n",
       " 'usb': 6701,\n",
       " 'code': 1590,\n",
       " 'overally': 4581,\n",
       " 'beats': 1004,\n",
       " 'con': 1705,\n",
       " 'adult': 495,\n",
       " 'smaall': 5822,\n",
       " 'children': 1506,\n",
       " 'teensread': 6299,\n",
       " 'vocals': 6822,\n",
       " 'premium': 4910,\n",
       " 'foldable': 2800,\n",
       " 'appears': 633,\n",
       " 'terrace': 6312,\n",
       " 'put': 5126,\n",
       " 'pocket': 4834,\n",
       " 'due': 2288,\n",
       " '1conclusion': 132,\n",
       " '1400': 103,\n",
       " 'suggest': 6129,\n",
       " 'offer': 4435,\n",
       " 'cotton': 1832,\n",
       " 'leather': 3748,\n",
       " 'air': 540,\n",
       " 'goodbass': 2971,\n",
       " 'notice': 4391,\n",
       " 'gud': 3058,\n",
       " 'plz': 4829,\n",
       " 'guyz': 3071,\n",
       " 'play': 4801,\n",
       " 'heaphone': 3219,\n",
       " 'disturb': 2214,\n",
       " 'qual': 5139,\n",
       " 'recieved': 5306,\n",
       " 'thankful': 6333,\n",
       " 'minor': 4127,\n",
       " 'found': 2829,\n",
       " 'heads': 3203,\n",
       " 'cushions': 1902,\n",
       " 'material': 4017,\n",
       " 'blue': 1135,\n",
       " 'color': 1602,\n",
       " 'cloth': 1579,\n",
       " 'comparing': 1666,\n",
       " 'others': 4547,\n",
       " 'variants': 6763,\n",
       " 'settings': 5704,\n",
       " 'theatre': 6350,\n",
       " 'pressure': 4916,\n",
       " 'brought': 1256,\n",
       " 'given': 2940,\n",
       " 'dateread': 1953,\n",
       " 'jbl': 3597,\n",
       " 'buyied': 1342,\n",
       " 'definitely': 2005,\n",
       " 'amount': 594,\n",
       " 'paid': 4625,\n",
       " 'pros1': 5064,\n",
       " 'hd': 3153,\n",
       " 'poweramp': 4882,\n",
       " 'player': 4804,\n",
       " 'daily': 1930,\n",
       " 'tested': 6320,\n",
       " 'limits': 3809,\n",
       " 'consbut': 1758,\n",
       " 'able': 426,\n",
       " 'regret': 5352,\n",
       " 'reasons': 5291,\n",
       " 'sort': 5911,\n",
       " 'manufacturer': 3982,\n",
       " 'brillant': 1241,\n",
       " 'especially': 2459,\n",
       " 'dj': 2227,\n",
       " 'remix': 5377,\n",
       " 'gery': 2921,\n",
       " 'fitting': 2746,\n",
       " '5super': 323,\n",
       " '5design': 294,\n",
       " '5excellent': 296,\n",
       " '5around': 281,\n",
       " 'fits': 2744,\n",
       " 'ultralight': 6615,\n",
       " 'mark': 3987,\n",
       " 'data': 1950,\n",
       " 'included': 3432,\n",
       " 'soft': 5854,\n",
       " 'prod': 4975,\n",
       " 'bang': 895,\n",
       " 'buck': 1268,\n",
       " 'seriously': 5691,\n",
       " 'packing': 4611,\n",
       " 'received': 5294,\n",
       " 'appreciable': 638,\n",
       " '1000rs': 19,\n",
       " 'productpros': 5017,\n",
       " 'design2': 2073,\n",
       " 'look3': 3862,\n",
       " 'bass4': 916,\n",
       " 'weight5': 6932,\n",
       " 'backupcons': 842,\n",
       " 'wasy': 6894,\n",
       " 'afta': 519,\n",
       " 'seen': 5650,\n",
       " 'reviews': 5452,\n",
       " 'youtube': 7146,\n",
       " 'ppl': 4890,\n",
       " 'loves': 3916,\n",
       " 'cz': 1926,\n",
       " 'normal': 4379,\n",
       " 'straight3': 6060,\n",
       " 'buttons': 1330,\n",
       " 'cover': 1844,\n",
       " 'whole': 6965,\n",
       " 'year': 7123,\n",
       " 'longer': 3856,\n",
       " 'starts': 6024,\n",
       " 'hurting': 3354,\n",
       " 'try': 6573,\n",
       " 'available': 748,\n",
       " 'liked': 3797,\n",
       " 'twice': 6590,\n",
       " 'loose': 3877,\n",
       " 'adjusted': 485,\n",
       " 'improvements': 3419,\n",
       " 'stars': 6018,\n",
       " 'speciality': 5957,\n",
       " 'contained': 1773,\n",
       " 'excited': 2519,\n",
       " 'expectations': 2547,\n",
       " 'comes': 1619,\n",
       " 'feeling': 2682,\n",
       " 'withing': 7014,\n",
       " 'part': 4674,\n",
       " 'return': 5435,\n",
       " 'exchange': 2515,\n",
       " 'disappointed': 2153,\n",
       " 'top': 6511,\n",
       " 'notch': 4385,\n",
       " 'sounf': 5938,\n",
       " 'speedthe': 5973,\n",
       " '899': 366,\n",
       " 'new': 4334,\n",
       " 'alright': 566,\n",
       " 'either': 2376,\n",
       " 'neglected': 4321,\n",
       " 'seeing': 5644,\n",
       " 'lits': 3835,\n",
       " 'button': 1328,\n",
       " 'later': 3725,\n",
       " 'ashvatthama': 669,\n",
       " 'denies': 2049,\n",
       " 'die': 2118,\n",
       " 'straightaway': 6061,\n",
       " 'travel': 6541,\n",
       " 'end': 2400,\n",
       " 'controls': 1802,\n",
       " 'responsive': 5424,\n",
       " 'true': 6566,\n",
       " 'freedom': 2840,\n",
       " '100': 12,\n",
       " 'hey': 3264,\n",
       " 'fellows': 2693,\n",
       " 'metal': 4075,\n",
       " 'holders': 3292,\n",
       " 'fr': 2833,\n",
       " 'salesread': 5574,\n",
       " 'wired': 6997,\n",
       " 'last': 3716,\n",
       " 'yr': 7150,\n",
       " 'writing': 7095,\n",
       " 'broken': 1249,\n",
       " 'tape': 6275,\n",
       " 'rough': 5519,\n",
       " 'useread': 6720,\n",
       " '18': 122,\n",
       " '12days': 92,\n",
       " 'itz': 3576,\n",
       " 'suddenly': 6121,\n",
       " 'side': 5759,\n",
       " 'speaker': 5949,\n",
       " 'daysread': 1965,\n",
       " 'billion': 1105,\n",
       " 'supercom': 6174,\n",
       " 'net': 4330,\n",
       " 'within': 7013,\n",
       " '40': 235,\n",
       " 'superfast': 6176,\n",
       " 'discounted': 2174,\n",
       " 'assumed': 684,\n",
       " 'sealed': 5625,\n",
       " 'open': 4493,\n",
       " 'surprise': 6221,\n",
       " 'completely': 1693,\n",
       " 'sending': 5668,\n",
       " 'coming': 1642,\n",
       " 'gr8': 3014,\n",
       " 'e': 2307,\n",
       " 'meter': 4076,\n",
       " 'wellz': 6944,\n",
       " 'impressions': 3409,\n",
       " 'performance': 4732,\n",
       " 'considering': 1762,\n",
       " 'beat': 1002,\n",
       " 'cancel': 1389,\n",
       " 'enough': 2424,\n",
       " 'durability': 2294,\n",
       " 'people': 4717,\n",
       " 'rated': 5254,\n",
       " 'minus': 4137,\n",
       " 'gotta': 3013,\n",
       " 'state': 6026,\n",
       " 'good2': 2964,\n",
       " 'mostly': 4219,\n",
       " 'outside': 4568,\n",
       " 'trust': 6569,\n",
       " 'stand': 6010,\n",
       " 'painful': 4633,\n",
       " 'tightness': 6453,\n",
       " 'makes': 3965,\n",
       " 'mad': 3947,\n",
       " 'sometimes4': 5881,\n",
       " 'judge': 3614,\n",
       " 'lil': 3803,\n",
       " 'costly': 1828,\n",
       " 'hark': 3133,\n",
       " 'wonderfully': 7029,\n",
       " 'played': 4803,\n",
       " 'pc': 4700,\n",
       " 'suggested': 6130,\n",
       " 'name': 4291,\n",
       " '400read': 240,\n",
       " 'aching': 463,\n",
       " 'could': 1835,\n",
       " 'softer': 5855,\n",
       " 'occasional': 4425,\n",
       " 'watch': 6896,\n",
       " 'movie': 4234,\n",
       " 'outer': 4560,\n",
       " 'genuine': 2919,\n",
       " '510': 273,\n",
       " 'waste': 6889,\n",
       " 'broke': 1247,\n",
       " 'monthsmic': 4205,\n",
       " 'clearwhen': 1570,\n",
       " 'changing': 1471,\n",
       " 'disturbance': 2215,\n",
       " 'bestread': 1064,\n",
       " 'couple': 1838,\n",
       " 'wich': 6973,\n",
       " 'include': 3431,\n",
       " 'wrote': 7102,\n",
       " 'let': 3768,\n",
       " 'deliver': 2030,\n",
       " 'compared': 1664,\n",
       " 'services': 5697,\n",
       " 'felt': 2695,\n",
       " 'annoyed': 610,\n",
       " 'penny': 4713,\n",
       " 'duper': 2292,\n",
       " 'productsread': 5025,\n",
       " 'reasonable': 5288,\n",
       " '1000': 13,\n",
       " 'might': 4107,\n",
       " 'find': 2722,\n",
       " 'ones': 4477,\n",
       " 'bigger': 1097,\n",
       " 'though': 6407,\n",
       " 'deep': 1991,\n",
       " 'nonetheless': 4373,\n",
       " '1275': 88,\n",
       " 'pay': 4696,\n",
       " 'discount': 2173,\n",
       " 'smaller': 5825,\n",
       " 'said': 5564,\n",
       " 'checked': 1494,\n",
       " 'nearly': 4306,\n",
       " 'pause': 4693,\n",
       " 'receive': 5293,\n",
       " '699': 334,\n",
       " '300': 210,\n",
       " 'cashback': 1434,\n",
       " 'phonepe': 4761,\n",
       " 'nothing': 4390,\n",
       " 'boost': 1188,\n",
       " 'mm': 4156,\n",
       " 'jack': 3582,\n",
       " 'speak': 5948,\n",
       " 'loudly': 3900,\n",
       " 'talking': 6271,\n",
       " 'someone': 5873,\n",
       " 'carefully': 1423,\n",
       " 'vibration': 6804,\n",
       " 'soooooo': 5907,\n",
       " 'appreciated': 640,\n",
       " 'celebrities': 1449,\n",
       " 'incredibly': 3443,\n",
       " 'usage': 6695,\n",
       " 'along': 563,\n",
       " 'frame': 2835,\n",
       " 'described': 2062,\n",
       " 'expect': 2544,\n",
       " 'going': 2960,\n",
       " 'refund': 5341,\n",
       " 'miss': 4147,\n",
       " 'simple': 5774,\n",
       " 'steel': 6036,\n",
       " 'rods': 5513,\n",
       " 'hope': 3306,\n",
       " 'soud': 5913,\n",
       " 'alternate': 572,\n",
       " 'iball': 3368,\n",
       " 'headsetread': 3209,\n",
       " 'anyone': 619,\n",
       " 'fantastic': 2638,\n",
       " 'lookbut': 3863,\n",
       " 'cauz': 1446,\n",
       " 'pressurise': 4919,\n",
       " 'min': 4114,\n",
       " 'helo': 3253,\n",
       " 'trending': 6556,\n",
       " 'accessories': 445,\n",
       " 'market': 3988,\n",
       " 'second': 5635,\n",
       " 'earphones': 2328,\n",
       " 'senheizzer': 5669,\n",
       " 'skullcandy': 5802,\n",
       " 'chance': 1466,\n",
       " 'rickerz': 5467,\n",
       " 'entry': 2436,\n",
       " '999rs': 406,\n",
       " 'packed': 4607,\n",
       " 'kudos': 3687,\n",
       " 'however': 3329,\n",
       " 'inside': 3479,\n",
       " 'courier': 1840,\n",
       " 'pa': 4603,\n",
       " 'jst': 3613,\n",
       " 'around': 661,\n",
       " '1m': 143,\n",
       " '1star': 153,\n",
       " 'bcoz': 990,\n",
       " 'two': 6592,\n",
       " 'appreciation': 641,\n",
       " 'needed': 4314,\n",
       " 'mumbai': 4265,\n",
       " 'andheri': 602,\n",
       " 'atlast': 700,\n",
       " 'style': 6106,\n",
       " 'ka': 3630,\n",
       " 'bohut': 1174,\n",
       " 'hard': 3122,\n",
       " 'hai': 3088,\n",
       " 'shopping': 5742,\n",
       " 'favourite': 2666,\n",
       " 'youread': 7145,\n",
       " 'takin': 6267,\n",
       " 'travelling': 6545,\n",
       " 'folded': 2801,\n",
       " 'flat': 2756,\n",
       " 'position': 4870,\n",
       " 'callers': 1372,\n",
       " 'gifted': 2933,\n",
       " 'sister': 5783,\n",
       " 'rakhi': 5225,\n",
       " 'philips': 4756,\n",
       " 'audiotechnica': 730,\n",
       " 'soundmagic': 5929,\n",
       " 'stands': 6015,\n",
       " 'yeah': 7122,\n",
       " '1300rs': 95,\n",
       " 'near': 4304,\n",
       " '1200': 84,\n",
       " 'dissipointed': 2192,\n",
       " 'hardly': 3126,\n",
       " '15mins': 116,\n",
       " 'hhhhh': 3265,\n",
       " 'bakwass': 881,\n",
       " 'absent': 430,\n",
       " 'type': 6596,\n",
       " ...}"
      ]
     },
     "execution_count": 24,
     "metadata": {},
     "output_type": "execute_result"
    }
   ],
   "source": [
    "review_count.vocabulary_"
   ]
  },
  {
   "cell_type": "code",
   "execution_count": 25,
   "id": "20c6563c",
   "metadata": {},
   "outputs": [],
   "source": [
    "df_X = review_count.transform(df['review'])"
   ]
  },
  {
   "cell_type": "code",
   "execution_count": 26,
   "id": "36798258",
   "metadata": {},
   "outputs": [
    {
     "data": {
      "text/plain": [
       "(9976, 7201)"
      ]
     },
     "execution_count": 26,
     "metadata": {},
     "output_type": "execute_result"
    }
   ],
   "source": [
    "df_X.shape"
   ]
  },
  {
   "cell_type": "code",
   "execution_count": 27,
   "id": "19acbbdd",
   "metadata": {},
   "outputs": [
    {
     "data": {
      "text/plain": [
       "scipy.sparse._csr.csr_matrix"
      ]
     },
     "execution_count": 27,
     "metadata": {},
     "output_type": "execute_result"
    }
   ],
   "source": [
    "type(df_X)"
   ]
  },
  {
   "cell_type": "code",
   "execution_count": 28,
   "id": "8a316a88",
   "metadata": {},
   "outputs": [
    {
     "data": {
      "text/plain": [
       "rating\n",
       " 1    8091\n",
       "-1    1001\n",
       " 0     884\n",
       "Name: count, dtype: int64"
      ]
     },
     "execution_count": 28,
     "metadata": {},
     "output_type": "execute_result"
    }
   ],
   "source": [
    "df.rating.value_counts()"
   ]
  },
  {
   "cell_type": "code",
   "execution_count": 117,
   "id": "d0b1d5d5",
   "metadata": {},
   "outputs": [],
   "source": [
    "# train-test split\n",
    "\n",
    "from sklearn.model_selection import train_test_split\n",
    "\n",
    "x_train , x_test, y_train  , y_test = train_test_split(df_X , df.rating ,test_size=.2)"
   ]
  },
  {
   "cell_type": "code",
   "execution_count": 81,
   "id": "002060d2",
   "metadata": {},
   "outputs": [],
   "source": [
    "from sklearn.metrics import confusion_matrix , precision_score , classification_report , accuracy_score , recall_score, f1_score"
   ]
  },
  {
   "cell_type": "code",
   "execution_count": 30,
   "id": "e22d4de1",
   "metadata": {},
   "outputs": [
    {
     "name": "stdout",
     "output_type": "stream",
     "text": [
      "shape of train X ---> (7980, 7201)\n",
      "shape of train Y ---> (7980,)\n",
      "shape of test X ---> (1996, 7201)\n",
      "shape of test Y ---> (1996,)\n"
     ]
    }
   ],
   "source": [
    "print(\"shape of train X --->\",x_train.shape)\n",
    "print(\"shape of train Y --->\",y_train.shape)\n",
    "print(\"shape of test X --->\",x_test.shape)\n",
    "print(\"shape of test Y --->\",y_test.shape)"
   ]
  },
  {
   "cell_type": "code",
   "execution_count": 91,
   "id": "68674303",
   "metadata": {},
   "outputs": [
    {
     "data": {
      "text/html": [
       "<div>\n",
       "<style scoped>\n",
       "    .dataframe tbody tr th:only-of-type {\n",
       "        vertical-align: middle;\n",
       "    }\n",
       "\n",
       "    .dataframe tbody tr th {\n",
       "        vertical-align: top;\n",
       "    }\n",
       "\n",
       "    .dataframe thead th {\n",
       "        text-align: right;\n",
       "    }\n",
       "</style>\n",
       "<table border=\"1\" class=\"dataframe\">\n",
       "  <thead>\n",
       "    <tr style=\"text-align: right;\">\n",
       "      <th></th>\n",
       "      <th>Accuracy</th>\n",
       "      <th>Precision</th>\n",
       "      <th>Recall</th>\n",
       "      <th>F1-score</th>\n",
       "    </tr>\n",
       "  </thead>\n",
       "  <tbody>\n",
       "    <tr>\n",
       "      <th>Random Forest Classifier (RF)</th>\n",
       "      <td>0.0</td>\n",
       "      <td>0.0</td>\n",
       "      <td>0.0</td>\n",
       "      <td>0.0</td>\n",
       "    </tr>\n",
       "    <tr>\n",
       "      <th>Decision Tree Classifier (DT)</th>\n",
       "      <td>0.0</td>\n",
       "      <td>0.0</td>\n",
       "      <td>0.0</td>\n",
       "      <td>0.0</td>\n",
       "    </tr>\n",
       "    <tr>\n",
       "      <th>Naïve Bayes Classifier (NB)</th>\n",
       "      <td>0.0</td>\n",
       "      <td>0.0</td>\n",
       "      <td>0.0</td>\n",
       "      <td>0.0</td>\n",
       "    </tr>\n",
       "  </tbody>\n",
       "</table>\n",
       "</div>"
      ],
      "text/plain": [
       "                               Accuracy  Precision  Recall  F1-score\n",
       "Random Forest Classifier (RF)       0.0        0.0     0.0       0.0\n",
       "Decision Tree Classifier (DT)       0.0        0.0     0.0       0.0\n",
       "Naïve Bayes Classifier (NB)         0.0        0.0     0.0       0.0"
      ]
     },
     "execution_count": 91,
     "metadata": {},
     "output_type": "execute_result"
    }
   ],
   "source": [
    "Evaluation_Results = pd.DataFrame(np.zeros((3,4)), columns=['Accuracy', 'Precision','Recall','F1-score'])\n",
    "Evaluation_Results.index=['Random Forest Classifier (RF)','Decision Tree Classifier (DT)','Naïve Bayes Classifier (NB)']\n",
    "Evaluation_Results"
   ]
  },
  {
   "cell_type": "code",
   "execution_count": 92,
   "id": "fa802f90",
   "metadata": {},
   "outputs": [],
   "source": [
    "def Classification_Summary(y_test , pred ,i):\n",
    "    Evaluation_Results.iloc[i]['Accuracy']=round(accuracy_score(y_test, pred),3)*100   \n",
    "    Evaluation_Results.iloc[i]['Precision']=round(precision_score(y_test, pred, average='weighted'),3)*100 #\n",
    "    Evaluation_Results.iloc[i]['Recall']=round(recall_score(y_test, pred, average='weighted'),3)*100 #\n",
    "    Evaluation_Results.iloc[i]['F1-score']=round(f1_score(y_test, pred, average='weighted'),3)*100 #\n",
    "    print('{}{}\\033[1m Evaluating {} \\033[0m{}{}\\n'.format('<'*3,'-'*35,Evaluation_Results.index[i], '-'*35,'>'*3))\n",
    "    print('Accuracy = {}%'.format(round(accuracy_score(y_test, pred),3)*100))\n",
    "    print('F1 Score = {}%'.format(round(f1_score(y_test, pred, average='weighted'),3)*100)) #\n",
    "    print('\\n \\033[1mConfusiton Matrix:\\033[0m\\n',confusion_matrix(y_test, pred))\n",
    "    print('\\n\\033[1mClassification Report:\\033[0m\\n',classification_report(y_test, pred))"
   ]
  },
  {
   "cell_type": "code",
   "execution_count": null,
   "id": "716ebed8",
   "metadata": {},
   "outputs": [],
   "source": []
  },
  {
   "cell_type": "code",
   "execution_count": null,
   "id": "99f37042",
   "metadata": {},
   "outputs": [],
   "source": []
  },
  {
   "cell_type": "code",
   "execution_count": 31,
   "id": "e3769ee9",
   "metadata": {},
   "outputs": [],
   "source": [
    "from sklearn.ensemble import RandomForestClassifier\n",
    "from sklearn.tree import DecisionTreeClassifier\n",
    "from sklearn.naive_bayes import MultinomialNB\n",
    "dt = DecisionTreeClassifier()\n",
    "rf = RandomForestClassifier()\n",
    "nb = MultinomialNB()"
   ]
  },
  {
   "cell_type": "markdown",
   "id": "3bb09146",
   "metadata": {},
   "source": [
    "# 1. Random Forest"
   ]
  },
  {
   "cell_type": "code",
   "execution_count": 93,
   "id": "925f387d",
   "metadata": {},
   "outputs": [
    {
     "name": "stdout",
     "output_type": "stream",
     "text": [
      "<<<-----------------------------------\u001b[1m Evaluating Random Forest Classifier (RF) \u001b[0m----------------------------------->>>\n",
      "\n",
      "Accuracy = 86.8%\n",
      "F1 Score = 84.1%\n",
      "\n",
      " \u001b[1mConfusiton Matrix:\u001b[0m\n",
      " [[ 113    7   70]\n",
      " [  24   25  131]\n",
      " [  23    9 1594]]\n",
      "\n",
      "\u001b[1mClassification Report:\u001b[0m\n",
      "               precision    recall  f1-score   support\n",
      "\n",
      "          -1       0.71      0.59      0.65       190\n",
      "           0       0.61      0.14      0.23       180\n",
      "           1       0.89      0.98      0.93      1626\n",
      "\n",
      "    accuracy                           0.87      1996\n",
      "   macro avg       0.73      0.57      0.60      1996\n",
      "weighted avg       0.85      0.87      0.84      1996\n",
      "\n"
     ]
    }
   ],
   "source": [
    "rf.fit(x_train , y_train)\n",
    "\n",
    "pred_rf = rf.predict(x_test)\n",
    "\n",
    "Classification_Summary(y_test , pred_rf ,0)"
   ]
  },
  {
   "cell_type": "markdown",
   "id": "9b2c524a",
   "metadata": {},
   "source": [
    "# 2. Decision Tree"
   ]
  },
  {
   "cell_type": "code",
   "execution_count": 94,
   "id": "e0e611b9",
   "metadata": {},
   "outputs": [
    {
     "name": "stdout",
     "output_type": "stream",
     "text": [
      "<<<-----------------------------------\u001b[1m Evaluating Decision Tree Classifier (DT) \u001b[0m----------------------------------->>>\n",
      "\n",
      "Accuracy = 82.39999999999999%\n",
      "F1 Score = 81.89999999999999%\n",
      "\n",
      " \u001b[1mConfusiton Matrix:\u001b[0m\n",
      " [[ 108   22   60]\n",
      " [  30   45  105]\n",
      " [  62   72 1492]]\n",
      "\n",
      "\u001b[1mClassification Report:\u001b[0m\n",
      "               precision    recall  f1-score   support\n",
      "\n",
      "          -1       0.54      0.57      0.55       190\n",
      "           0       0.32      0.25      0.28       180\n",
      "           1       0.90      0.92      0.91      1626\n",
      "\n",
      "    accuracy                           0.82      1996\n",
      "   macro avg       0.59      0.58      0.58      1996\n",
      "weighted avg       0.81      0.82      0.82      1996\n",
      "\n"
     ]
    }
   ],
   "source": [
    "dt.fit(x_train , y_train)\n",
    "\n",
    "pred_dt = dt.predict(x_test)\n",
    "\n",
    "Classification_Summary(y_test , pred_dt ,1)"
   ]
  },
  {
   "cell_type": "code",
   "execution_count": 46,
   "id": "f2913db7",
   "metadata": {},
   "outputs": [],
   "source": []
  },
  {
   "cell_type": "markdown",
   "id": "7ead9a08",
   "metadata": {},
   "source": [
    "# 3. Naive Bias"
   ]
  },
  {
   "cell_type": "code",
   "execution_count": 95,
   "id": "fb6cc07d",
   "metadata": {},
   "outputs": [
    {
     "name": "stdout",
     "output_type": "stream",
     "text": [
      "<<<-----------------------------------\u001b[1m Evaluating Naïve Bayes Classifier (NB) \u001b[0m----------------------------------->>>\n",
      "\n",
      "Accuracy = 85.0%\n",
      "F1 Score = 82.0%\n",
      "\n",
      " \u001b[1mConfusiton Matrix:\u001b[0m\n",
      " [[  93    8   89]\n",
      " [  20   18  142]\n",
      " [  17   23 1586]]\n",
      "\n",
      "\u001b[1mClassification Report:\u001b[0m\n",
      "               precision    recall  f1-score   support\n",
      "\n",
      "          -1       0.72      0.49      0.58       190\n",
      "           0       0.37      0.10      0.16       180\n",
      "           1       0.87      0.98      0.92      1626\n",
      "\n",
      "    accuracy                           0.85      1996\n",
      "   macro avg       0.65      0.52      0.55      1996\n",
      "weighted avg       0.81      0.85      0.82      1996\n",
      "\n"
     ]
    }
   ],
   "source": [
    "nb.fit(x_train , y_train)\n",
    "\n",
    "pred_nb = nb.predict(x_test)\n",
    "\n",
    "Classification_Summary(y_test , pred_nb ,2)"
   ]
  },
  {
   "cell_type": "code",
   "execution_count": 112,
   "id": "6c8924bb",
   "metadata": {},
   "outputs": [
    {
     "name": "stdout",
     "output_type": "stream",
     "text": [
      "                                       Algorithms Comparison                                        \n"
     ]
    },
    {
     "data": {
      "image/png": "[encoded data removed]",
      "text/plain": [
       "<Figure size 600x600 with 2 Axes>"
      ]
     },
     "metadata": {},
     "output_type": "display_data"
    }
   ],
   "source": [
    "#Comparing all the models Scores\n",
    "\n",
    "print('Algorithms Comparison'.center(100))\n",
    "plt.figure(figsize=[6,6])\n",
    "\n",
    "sns.heatmap(Evaluation_Results, annot=True, vmin=90, vmax=100, cmap='Blues', fmt='.2g')\n",
    "plt.show()"
   ]
  },
  {
   "cell_type": "markdown",
   "id": "d7118b1e",
   "metadata": {},
   "source": [
    "in this problem statement we have trained and tested ML models on ratings , so the it's important to focus on Accuracy. Random  Forest is the best accuracy amongst the three models."
   ]
  },
  {
   "cell_type": "markdown",
   "id": "a2fefb5f",
   "metadata": {},
   "source": [
    "# Program Execution Time"
   ]
  },
  {
   "cell_type": "code",
   "execution_count": 54,
   "id": "14baeb46",
   "metadata": {},
   "outputs": [
    {
     "name": "stdout",
     "output_type": "stream",
     "text": [
      "Program Executed in 0.8312570000416599\n"
     ]
    }
   ],
   "source": [
    "import timeit\n",
    "\n",
    "start = timeit.default_timer()\n",
    "\n",
    "\n",
    "text_count = CountVectorizer(analyzer= text_process).fit(df['review'])\n",
    "\n",
    "\n",
    "stop = timeit.default_timer()\n",
    "\n",
    "execution_time = stop - start\n",
    "\n",
    "print('Program Executed in',execution_time)"
   ]
  },
  {
   "cell_type": "markdown",
   "id": "c6e054b2",
   "metadata": {},
   "source": [
    "timeit tells us in how much time the program get executed"
   ]
  },
  {
   "cell_type": "markdown",
   "id": "df4b89a7",
   "metadata": {},
   "source": [
    "# Sentiment Analyser"
   ]
  },
  {
   "cell_type": "code",
   "execution_count": 55,
   "id": "3d28cb8a",
   "metadata": {},
   "outputs": [],
   "source": [
    "from nltk.sentiment.vader import SentimentIntensityAnalyzer\n",
    "\n",
    "sent = SentimentIntensityAnalyzer()"
   ]
  },
  {
   "cell_type": "markdown",
   "id": "1e728069",
   "metadata": {},
   "source": [
    "From Sentiment Intensity Analyser we will get the compound score(polarity score) of the reviews"
   ]
  },
  {
   "cell_type": "code",
   "execution_count": 69,
   "id": "4a8ca9b3",
   "metadata": {},
   "outputs": [],
   "source": [
    "polarity_score =[]\n",
    "\n",
    "for i in range (0 , df.shape[0]):\n",
    "    ans = sent.polarity_scores(df.review[i])\n",
    "    polarity_score.append(ans['compound'])\n",
    "    "
   ]
  },
  {
   "cell_type": "code",
   "execution_count": 74,
   "id": "9395f097",
   "metadata": {},
   "outputs": [
    {
     "data": {
      "text/html": [
       "<div>\n",
       "<style scoped>\n",
       "    .dataframe tbody tr th:only-of-type {\n",
       "        vertical-align: middle;\n",
       "    }\n",
       "\n",
       "    .dataframe tbody tr th {\n",
       "        vertical-align: top;\n",
       "    }\n",
       "\n",
       "    .dataframe thead th {\n",
       "        text-align: right;\n",
       "    }\n",
       "</style>\n",
       "<table border=\"1\" class=\"dataframe\">\n",
       "  <thead>\n",
       "    <tr style=\"text-align: right;\">\n",
       "      <th></th>\n",
       "      <th>review</th>\n",
       "      <th>rating</th>\n",
       "      <th>Polarity Score_TextBlob</th>\n",
       "      <th>Compound Score</th>\n",
       "    </tr>\n",
       "  </thead>\n",
       "  <tbody>\n",
       "    <tr>\n",
       "      <th>0</th>\n",
       "      <td>it was nice produt  i like it s design a lot  ...</td>\n",
       "      <td>1</td>\n",
       "      <td>0.508333</td>\n",
       "      <td>0.8020</td>\n",
       "    </tr>\n",
       "    <tr>\n",
       "      <th>1</th>\n",
       "      <td>awesome sound    very pretty to see this nd th...</td>\n",
       "      <td>1</td>\n",
       "      <td>0.575000</td>\n",
       "      <td>0.9524</td>\n",
       "    </tr>\n",
       "    <tr>\n",
       "      <th>2</th>\n",
       "      <td>awesome sound quality  pros 7 8 hrs of battery...</td>\n",
       "      <td>1</td>\n",
       "      <td>0.308016</td>\n",
       "      <td>0.9471</td>\n",
       "    </tr>\n",
       "    <tr>\n",
       "      <th>3</th>\n",
       "      <td>i think it is such a good product not only as ...</td>\n",
       "      <td>1</td>\n",
       "      <td>0.300000</td>\n",
       "      <td>0.9827</td>\n",
       "    </tr>\n",
       "    <tr>\n",
       "      <th>4</th>\n",
       "      <td>awesome bass sound quality very good bettary l...</td>\n",
       "      <td>1</td>\n",
       "      <td>0.351250</td>\n",
       "      <td>0.8653</td>\n",
       "    </tr>\n",
       "  </tbody>\n",
       "</table>\n",
       "</div>"
      ],
      "text/plain": [
       "                                              review  rating  \\\n",
       "0  it was nice produt  i like it s design a lot  ...       1   \n",
       "1  awesome sound    very pretty to see this nd th...       1   \n",
       "2  awesome sound quality  pros 7 8 hrs of battery...       1   \n",
       "3  i think it is such a good product not only as ...       1   \n",
       "4  awesome bass sound quality very good bettary l...       1   \n",
       "\n",
       "   Polarity Score_TextBlob  Compound Score  \n",
       "0                 0.508333          0.8020  \n",
       "1                 0.575000          0.9524  \n",
       "2                 0.308016          0.9471  \n",
       "3                 0.300000          0.9827  \n",
       "4                 0.351250          0.8653  "
      ]
     },
     "execution_count": 74,
     "metadata": {},
     "output_type": "execute_result"
    }
   ],
   "source": [
    "df['Compound Score'] = polarity_score\n",
    "df.head()"
   ]
  },
  {
   "cell_type": "code",
   "execution_count": 58,
   "id": "bd69ee02",
   "metadata": {},
   "outputs": [
    {
     "data": {
      "text/html": [
       "<div>\n",
       "<style scoped>\n",
       "    .dataframe tbody tr th:only-of-type {\n",
       "        vertical-align: middle;\n",
       "    }\n",
       "\n",
       "    .dataframe tbody tr th {\n",
       "        vertical-align: top;\n",
       "    }\n",
       "\n",
       "    .dataframe thead th {\n",
       "        text-align: right;\n",
       "    }\n",
       "</style>\n",
       "<table border=\"1\" class=\"dataframe\">\n",
       "  <thead>\n",
       "    <tr style=\"text-align: right;\">\n",
       "      <th></th>\n",
       "      <th>rating</th>\n",
       "      <th>Polarity Score</th>\n",
       "    </tr>\n",
       "  </thead>\n",
       "  <tbody>\n",
       "    <tr>\n",
       "      <th>count</th>\n",
       "      <td>9976.000000</td>\n",
       "      <td>9976.000000</td>\n",
       "    </tr>\n",
       "    <tr>\n",
       "      <th>mean</th>\n",
       "      <td>0.710706</td>\n",
       "      <td>0.376553</td>\n",
       "    </tr>\n",
       "    <tr>\n",
       "      <th>std</th>\n",
       "      <td>0.637437</td>\n",
       "      <td>0.462875</td>\n",
       "    </tr>\n",
       "    <tr>\n",
       "      <th>min</th>\n",
       "      <td>-1.000000</td>\n",
       "      <td>-0.950500</td>\n",
       "    </tr>\n",
       "    <tr>\n",
       "      <th>5%</th>\n",
       "      <td>-1.000000</td>\n",
       "      <td>-0.544800</td>\n",
       "    </tr>\n",
       "    <tr>\n",
       "      <th>10%</th>\n",
       "      <td>-1.000000</td>\n",
       "      <td>-0.285400</td>\n",
       "    </tr>\n",
       "    <tr>\n",
       "      <th>20%</th>\n",
       "      <td>1.000000</td>\n",
       "      <td>0.000000</td>\n",
       "    </tr>\n",
       "    <tr>\n",
       "      <th>30%</th>\n",
       "      <td>1.000000</td>\n",
       "      <td>0.000000</td>\n",
       "    </tr>\n",
       "    <tr>\n",
       "      <th>40%</th>\n",
       "      <td>1.000000</td>\n",
       "      <td>0.420100</td>\n",
       "    </tr>\n",
       "    <tr>\n",
       "      <th>50%</th>\n",
       "      <td>1.000000</td>\n",
       "      <td>0.440400</td>\n",
       "    </tr>\n",
       "    <tr>\n",
       "      <th>60%</th>\n",
       "      <td>1.000000</td>\n",
       "      <td>0.599400</td>\n",
       "    </tr>\n",
       "    <tr>\n",
       "      <th>70%</th>\n",
       "      <td>1.000000</td>\n",
       "      <td>0.700300</td>\n",
       "    </tr>\n",
       "    <tr>\n",
       "      <th>80%</th>\n",
       "      <td>1.000000</td>\n",
       "      <td>0.833100</td>\n",
       "    </tr>\n",
       "    <tr>\n",
       "      <th>90%</th>\n",
       "      <td>1.000000</td>\n",
       "      <td>0.916800</td>\n",
       "    </tr>\n",
       "    <tr>\n",
       "      <th>100%</th>\n",
       "      <td>1.000000</td>\n",
       "      <td>0.991900</td>\n",
       "    </tr>\n",
       "    <tr>\n",
       "      <th>max</th>\n",
       "      <td>1.000000</td>\n",
       "      <td>0.991900</td>\n",
       "    </tr>\n",
       "  </tbody>\n",
       "</table>\n",
       "</div>"
      ],
      "text/plain": [
       "            rating  Polarity Score\n",
       "count  9976.000000     9976.000000\n",
       "mean      0.710706        0.376553\n",
       "std       0.637437        0.462875\n",
       "min      -1.000000       -0.950500\n",
       "5%       -1.000000       -0.544800\n",
       "10%      -1.000000       -0.285400\n",
       "20%       1.000000        0.000000\n",
       "30%       1.000000        0.000000\n",
       "40%       1.000000        0.420100\n",
       "50%       1.000000        0.440400\n",
       "60%       1.000000        0.599400\n",
       "70%       1.000000        0.700300\n",
       "80%       1.000000        0.833100\n",
       "90%       1.000000        0.916800\n",
       "100%      1.000000        0.991900\n",
       "max       1.000000        0.991900"
      ]
     },
     "execution_count": 58,
     "metadata": {},
     "output_type": "execute_result"
    }
   ],
   "source": [
    "df.describe(percentiles = [.05 ,.1,.2,.3,.4,.5,.6,.7,.8,.9,1])"
   ]
  },
  {
   "cell_type": "code",
   "execution_count": 76,
   "id": "76029c35",
   "metadata": {},
   "outputs": [
    {
     "data": {
      "text/plain": [
       "(array([  21.,   43.,   49.,   67.,   63.,   61.,   81.,   83.,   92.,\n",
       "         107.,   91.,   91.,  100.,   75.,   55.,   43.,   45.,   30.,\n",
       "          26., 2116.,   32.,   37.,   35.,   51.,  196.,   76.,   95.,\n",
       "         123., 1051.,  394.,   95.,  488.,  759.,  273.,  217.,  426.,\n",
       "         428.,  575.,  698.,  588.]),\n",
       " array([-0.9505 , -0.90194, -0.85338, -0.80482, -0.75626, -0.7077 ,\n",
       "        -0.65914, -0.61058, -0.56202, -0.51346, -0.4649 , -0.41634,\n",
       "        -0.36778, -0.31922, -0.27066, -0.2221 , -0.17354, -0.12498,\n",
       "        -0.07642, -0.02786,  0.0207 ,  0.06926,  0.11782,  0.16638,\n",
       "         0.21494,  0.2635 ,  0.31206,  0.36062,  0.40918,  0.45774,\n",
       "         0.5063 ,  0.55486,  0.60342,  0.65198,  0.70054,  0.7491 ,\n",
       "         0.79766,  0.84622,  0.89478,  0.94334,  0.9919 ]),\n",
       " <BarContainer object of 40 artists>)"
      ]
     },
     "execution_count": 76,
     "metadata": {},
     "output_type": "execute_result"
    },
    {
     "data": {
      "image/png": "[encoded data removed]",
      "text/plain": [
       "<Figure size 640x480 with 1 Axes>"
      ]
     },
     "metadata": {},
     "output_type": "display_data"
    }
   ],
   "source": [
    "import matplotlib.pyplot\n",
    "\n",
    "plt.hist(df['Compound Score'] ,bins=40)\n"
   ]
  },
  {
   "cell_type": "code",
   "execution_count": 115,
   "id": "14e66508",
   "metadata": {},
   "outputs": [
    {
     "name": "stderr",
     "output_type": "stream",
     "text": [
      "C:\\Users\\shan2\\AppData\\Local\\Temp\\ipykernel_40644\\385330804.py:3: UserWarning: \n",
      "\n",
      "`distplot` is a deprecated function and will be removed in seaborn v0.14.0.\n",
      "\n",
      "Please adapt your code to use either `displot` (a figure-level function with\n",
      "similar flexibility) or `histplot` (an axes-level function for histograms).\n",
      "\n",
      "For a guide to updating your code to use the new functions, please see\n",
      "https://gist.github.com/mwaskom/de44147ed2974457ad6372750bbe5751\n",
      "\n",
      "  sns.distplot(df['Compound Score'], bins=20)\n"
     ]
    },
    {
     "data": {
      "text/plain": [
       "<Axes: xlabel='Compound Score', ylabel='Density'>"
      ]
     },
     "execution_count": 115,
     "metadata": {},
     "output_type": "execute_result"
    },
    {
     "data": {
      "image/png": "[encoded data removed]",
      "text/plain": [
       "<Figure size 700x500 with 1 Axes>"
      ]
     },
     "metadata": {},
     "output_type": "display_data"
    }
   ],
   "source": [
    "f, ax = plt.subplots(figsize=(7, 5))\n",
    "sns.despine(f)\n",
    "sns.distplot(df['Compound Score'], bins=20)"
   ]
  },
  {
   "cell_type": "code",
   "execution_count": 77,
   "id": "9536bc23",
   "metadata": {},
   "outputs": [
    {
     "data": {
      "text/plain": [
       "-0.6826885705248195"
      ]
     },
     "execution_count": 77,
     "metadata": {},
     "output_type": "execute_result"
    }
   ],
   "source": [
    "df['Compound Score'].skew()"
   ]
  },
  {
   "cell_type": "markdown",
   "id": "aaea7c92",
   "metadata": {},
   "source": [
    "Result:- The Compound score for the given review is left skewed "
   ]
  },
  {
   "cell_type": "markdown",
   "id": "5093e703",
   "metadata": {},
   "source": [
    "# TextBlob"
   ]
  },
  {
   "cell_type": "code",
   "execution_count": 62,
   "id": "e57bf68b",
   "metadata": {},
   "outputs": [],
   "source": [
    "from textblob import TextBlob"
   ]
  },
  {
   "cell_type": "markdown",
   "id": "b3832044",
   "metadata": {},
   "source": [
    "From TextBlob we will get the Polarity score"
   ]
  },
  {
   "cell_type": "code",
   "execution_count": 63,
   "id": "658f7368",
   "metadata": {},
   "outputs": [],
   "source": [
    "# subjectivity ---> opinion , polarity ---> -1 to 0 (-ve sentiment) and 1 to 0 (+ve sentiment)"
   ]
  },
  {
   "cell_type": "code",
   "execution_count": 64,
   "id": "62ee9341",
   "metadata": {},
   "outputs": [],
   "source": [
    "textblob_polarity_score =[]\n",
    "\n",
    "for i in range (0 , df.shape[0]):\n",
    "    ans = TextBlob(df.review[i])\n",
    "    textblob_polarity_score.append(ans.sentiment[0])"
   ]
  },
  {
   "cell_type": "code",
   "execution_count": 66,
   "id": "f0c14311",
   "metadata": {},
   "outputs": [
    {
     "data": {
      "text/html": [
       "<div>\n",
       "<style scoped>\n",
       "    .dataframe tbody tr th:only-of-type {\n",
       "        vertical-align: middle;\n",
       "    }\n",
       "\n",
       "    .dataframe tbody tr th {\n",
       "        vertical-align: top;\n",
       "    }\n",
       "\n",
       "    .dataframe thead th {\n",
       "        text-align: right;\n",
       "    }\n",
       "</style>\n",
       "<table border=\"1\" class=\"dataframe\">\n",
       "  <thead>\n",
       "    <tr style=\"text-align: right;\">\n",
       "      <th></th>\n",
       "      <th>review</th>\n",
       "      <th>rating</th>\n",
       "      <th>Polarity Score</th>\n",
       "      <th>Polarity Score_TextBlob</th>\n",
       "    </tr>\n",
       "  </thead>\n",
       "  <tbody>\n",
       "    <tr>\n",
       "      <th>0</th>\n",
       "      <td>it was nice produt  i like it s design a lot  ...</td>\n",
       "      <td>1</td>\n",
       "      <td>0.8020</td>\n",
       "      <td>0.508333</td>\n",
       "    </tr>\n",
       "    <tr>\n",
       "      <th>1</th>\n",
       "      <td>awesome sound    very pretty to see this nd th...</td>\n",
       "      <td>1</td>\n",
       "      <td>0.9524</td>\n",
       "      <td>0.575000</td>\n",
       "    </tr>\n",
       "    <tr>\n",
       "      <th>2</th>\n",
       "      <td>awesome sound quality  pros 7 8 hrs of battery...</td>\n",
       "      <td>1</td>\n",
       "      <td>0.9471</td>\n",
       "      <td>0.308016</td>\n",
       "    </tr>\n",
       "    <tr>\n",
       "      <th>3</th>\n",
       "      <td>i think it is such a good product not only as ...</td>\n",
       "      <td>1</td>\n",
       "      <td>0.9827</td>\n",
       "      <td>0.300000</td>\n",
       "    </tr>\n",
       "    <tr>\n",
       "      <th>4</th>\n",
       "      <td>awesome bass sound quality very good bettary l...</td>\n",
       "      <td>1</td>\n",
       "      <td>0.8653</td>\n",
       "      <td>0.351250</td>\n",
       "    </tr>\n",
       "  </tbody>\n",
       "</table>\n",
       "</div>"
      ],
      "text/plain": [
       "                                              review  rating  Polarity Score  \\\n",
       "0  it was nice produt  i like it s design a lot  ...       1          0.8020   \n",
       "1  awesome sound    very pretty to see this nd th...       1          0.9524   \n",
       "2  awesome sound quality  pros 7 8 hrs of battery...       1          0.9471   \n",
       "3  i think it is such a good product not only as ...       1          0.9827   \n",
       "4  awesome bass sound quality very good bettary l...       1          0.8653   \n",
       "\n",
       "   Polarity Score_TextBlob  \n",
       "0                 0.508333  \n",
       "1                 0.575000  \n",
       "2                 0.308016  \n",
       "3                 0.300000  \n",
       "4                 0.351250  "
      ]
     },
     "execution_count": 66,
     "metadata": {},
     "output_type": "execute_result"
    }
   ],
   "source": [
    "df['Polarity Score_TextBlob'] = textblob_polarity_score\n",
    "df.head()"
   ]
  },
  {
   "cell_type": "code",
   "execution_count": 67,
   "id": "c47cea27",
   "metadata": {},
   "outputs": [
    {
     "data": {
      "text/html": [
       "<div>\n",
       "<style scoped>\n",
       "    .dataframe tbody tr th:only-of-type {\n",
       "        vertical-align: middle;\n",
       "    }\n",
       "\n",
       "    .dataframe tbody tr th {\n",
       "        vertical-align: top;\n",
       "    }\n",
       "\n",
       "    .dataframe thead th {\n",
       "        text-align: right;\n",
       "    }\n",
       "</style>\n",
       "<table border=\"1\" class=\"dataframe\">\n",
       "  <thead>\n",
       "    <tr style=\"text-align: right;\">\n",
       "      <th></th>\n",
       "      <th>rating</th>\n",
       "      <th>Polarity Score</th>\n",
       "      <th>Polarity Score_TextBlob</th>\n",
       "    </tr>\n",
       "  </thead>\n",
       "  <tbody>\n",
       "    <tr>\n",
       "      <th>count</th>\n",
       "      <td>9976.000000</td>\n",
       "      <td>9976.000000</td>\n",
       "      <td>9976.000000</td>\n",
       "    </tr>\n",
       "    <tr>\n",
       "      <th>mean</th>\n",
       "      <td>0.710706</td>\n",
       "      <td>0.376553</td>\n",
       "      <td>0.446972</td>\n",
       "    </tr>\n",
       "    <tr>\n",
       "      <th>std</th>\n",
       "      <td>0.637437</td>\n",
       "      <td>0.462875</td>\n",
       "      <td>0.195802</td>\n",
       "    </tr>\n",
       "    <tr>\n",
       "      <th>min</th>\n",
       "      <td>-1.000000</td>\n",
       "      <td>-0.950500</td>\n",
       "      <td>-0.627000</td>\n",
       "    </tr>\n",
       "    <tr>\n",
       "      <th>5%</th>\n",
       "      <td>-1.000000</td>\n",
       "      <td>-0.544800</td>\n",
       "      <td>0.075000</td>\n",
       "    </tr>\n",
       "    <tr>\n",
       "      <th>10%</th>\n",
       "      <td>-1.000000</td>\n",
       "      <td>-0.285400</td>\n",
       "      <td>0.177728</td>\n",
       "    </tr>\n",
       "    <tr>\n",
       "      <th>20%</th>\n",
       "      <td>1.000000</td>\n",
       "      <td>0.000000</td>\n",
       "      <td>0.300000</td>\n",
       "    </tr>\n",
       "    <tr>\n",
       "      <th>30%</th>\n",
       "      <td>1.000000</td>\n",
       "      <td>0.000000</td>\n",
       "      <td>0.375064</td>\n",
       "    </tr>\n",
       "    <tr>\n",
       "      <th>40%</th>\n",
       "      <td>1.000000</td>\n",
       "      <td>0.420100</td>\n",
       "      <td>0.450000</td>\n",
       "    </tr>\n",
       "    <tr>\n",
       "      <th>50%</th>\n",
       "      <td>1.000000</td>\n",
       "      <td>0.440400</td>\n",
       "      <td>0.500000</td>\n",
       "    </tr>\n",
       "    <tr>\n",
       "      <th>60%</th>\n",
       "      <td>1.000000</td>\n",
       "      <td>0.599400</td>\n",
       "      <td>0.500000</td>\n",
       "    </tr>\n",
       "    <tr>\n",
       "      <th>70%</th>\n",
       "      <td>1.000000</td>\n",
       "      <td>0.700300</td>\n",
       "      <td>0.550000</td>\n",
       "    </tr>\n",
       "    <tr>\n",
       "      <th>80%</th>\n",
       "      <td>1.000000</td>\n",
       "      <td>0.833100</td>\n",
       "      <td>0.600000</td>\n",
       "    </tr>\n",
       "    <tr>\n",
       "      <th>90%</th>\n",
       "      <td>1.000000</td>\n",
       "      <td>0.916800</td>\n",
       "      <td>0.675000</td>\n",
       "    </tr>\n",
       "    <tr>\n",
       "      <th>100%</th>\n",
       "      <td>1.000000</td>\n",
       "      <td>0.991900</td>\n",
       "      <td>0.900000</td>\n",
       "    </tr>\n",
       "    <tr>\n",
       "      <th>max</th>\n",
       "      <td>1.000000</td>\n",
       "      <td>0.991900</td>\n",
       "      <td>0.900000</td>\n",
       "    </tr>\n",
       "  </tbody>\n",
       "</table>\n",
       "</div>"
      ],
      "text/plain": [
       "            rating  Polarity Score  Polarity Score_TextBlob\n",
       "count  9976.000000     9976.000000              9976.000000\n",
       "mean      0.710706        0.376553                 0.446972\n",
       "std       0.637437        0.462875                 0.195802\n",
       "min      -1.000000       -0.950500                -0.627000\n",
       "5%       -1.000000       -0.544800                 0.075000\n",
       "10%      -1.000000       -0.285400                 0.177728\n",
       "20%       1.000000        0.000000                 0.300000\n",
       "30%       1.000000        0.000000                 0.375064\n",
       "40%       1.000000        0.420100                 0.450000\n",
       "50%       1.000000        0.440400                 0.500000\n",
       "60%       1.000000        0.599400                 0.500000\n",
       "70%       1.000000        0.700300                 0.550000\n",
       "80%       1.000000        0.833100                 0.600000\n",
       "90%       1.000000        0.916800                 0.675000\n",
       "100%      1.000000        0.991900                 0.900000\n",
       "max       1.000000        0.991900                 0.900000"
      ]
     },
     "execution_count": 67,
     "metadata": {},
     "output_type": "execute_result"
    }
   ],
   "source": [
    "df.describe(percentiles = [.05 ,.1,.2,.3,.4,.5,.6,.7,.8,.9,1])"
   ]
  },
  {
   "cell_type": "code",
   "execution_count": 68,
   "id": "3f8c8b6c",
   "metadata": {},
   "outputs": [
    {
     "data": {
      "text/plain": [
       "(array([1.000e+00, 0.000e+00, 0.000e+00, 1.000e+00, 4.000e+00, 1.000e+00,\n",
       "        5.000e+00, 3.000e+00, 4.000e+00, 4.100e+01, 1.500e+01, 3.500e+01,\n",
       "        2.200e+01, 4.100e+01, 4.200e+01, 4.500e+01, 7.300e+01, 1.070e+02,\n",
       "        1.310e+02, 1.550e+02, 2.180e+02, 2.370e+02, 4.010e+02, 2.910e+02,\n",
       "        4.000e+02, 6.060e+02, 4.640e+02, 4.990e+02, 5.280e+02, 2.214e+03,\n",
       "        9.000e+02, 2.490e+02, 7.920e+02, 4.460e+02, 2.610e+02, 9.700e+01,\n",
       "        6.040e+02, 8.000e+00, 3.100e+01, 4.000e+00]),\n",
       " array([-0.627   , -0.588825, -0.55065 , -0.512475, -0.4743  , -0.436125,\n",
       "        -0.39795 , -0.359775, -0.3216  , -0.283425, -0.24525 , -0.207075,\n",
       "        -0.1689  , -0.130725, -0.09255 , -0.054375, -0.0162  ,  0.021975,\n",
       "         0.06015 ,  0.098325,  0.1365  ,  0.174675,  0.21285 ,  0.251025,\n",
       "         0.2892  ,  0.327375,  0.36555 ,  0.403725,  0.4419  ,  0.480075,\n",
       "         0.51825 ,  0.556425,  0.5946  ,  0.632775,  0.67095 ,  0.709125,\n",
       "         0.7473  ,  0.785475,  0.82365 ,  0.861825,  0.9     ]),\n",
       " <BarContainer object of 40 artists>)"
      ]
     },
     "execution_count": 68,
     "metadata": {},
     "output_type": "execute_result"
    },
    {
     "data": {
      "image/png": "[encoded data removed]",
      "text/plain": [
       "<Figure size 640x480 with 1 Axes>"
      ]
     },
     "metadata": {},
     "output_type": "display_data"
    }
   ],
   "source": [
    "plt.hist(df['Polarity Score_TextBlob'] ,bins=40)\n"
   ]
  },
  {
   "cell_type": "code",
   "execution_count": 113,
   "id": "0d7219ac",
   "metadata": {},
   "outputs": [
    {
     "name": "stderr",
     "output_type": "stream",
     "text": [
      "C:\\Users\\shan2\\AppData\\Local\\Temp\\ipykernel_40644\\1804869437.py:3: UserWarning: \n",
      "\n",
      "`distplot` is a deprecated function and will be removed in seaborn v0.14.0.\n",
      "\n",
      "Please adapt your code to use either `displot` (a figure-level function with\n",
      "similar flexibility) or `histplot` (an axes-level function for histograms).\n",
      "\n",
      "For a guide to updating your code to use the new functions, please see\n",
      "https://gist.github.com/mwaskom/de44147ed2974457ad6372750bbe5751\n",
      "\n",
      "  sns.distplot(df['Polarity Score_TextBlob'], bins=20)\n"
     ]
    },
    {
     "data": {
      "text/plain": [
       "<Axes: xlabel='Polarity Score_TextBlob', ylabel='Density'>"
      ]
     },
     "execution_count": 113,
     "metadata": {},
     "output_type": "execute_result"
    },
    {
     "data": {
      "image/png": "[encoded data removed]",
      "text/plain": [
       "<Figure size 700x500 with 1 Axes>"
      ]
     },
     "metadata": {},
     "output_type": "display_data"
    }
   ],
   "source": [
    "f, ax = plt.subplots(figsize=(7, 5))\n",
    "sns.despine(f)\n",
    "sns.distplot(df['Polarity Score_TextBlob'], bins=20)"
   ]
  },
  {
   "cell_type": "code",
   "execution_count": 116,
   "id": "2d87c345",
   "metadata": {},
   "outputs": [
    {
     "data": {
      "text/plain": [
       "-0.937900946310826"
      ]
     },
     "execution_count": 116,
     "metadata": {},
     "output_type": "execute_result"
    }
   ],
   "source": [
    "df['Polarity Score_TextBlob'].skew()"
   ]
  },
  {
   "cell_type": "markdown",
   "id": "d57779e1",
   "metadata": {},
   "source": [
    "Polarity score is also left skewed implies positive reviews"
   ]
  },
  {
   "cell_type": "markdown",
   "id": "7036f3b7",
   "metadata": {},
   "source": [
    "# Project Outcomes And Conclusions"
   ]
  },
  {
   "cell_type": "markdown",
   "id": "fad8a101",
   "metadata": {},
   "source": [
    "1. Ratings has 5 unique values which is converted in 3 unique value(-1 , 0 , 1).\n",
    "2. Reviews has punctuations , stopwords and special characters removed using NLTK libraries.\n",
    "3. After data cleaning we have performed Count Vectorized to convert each unique words in columns making Sparse Matrix.\n",
    "4. We have performed 3 ML models ands random forest gives best accuracy of 87%.\n",
    "5. Polarity score and compound score of the reviews are left skewed implies that the overall review is on positive side."
   ]
  },
  {
   "cell_type": "code",
   "execution_count": null,
   "id": "a157cb52",
   "metadata": {},
   "outputs": [],
   "source": []
  }
 ],
 "metadata": {
  "kernelspec": {
   "display_name": "Python 3 (ipykernel)",
   "language": "python",
   "name": "python3"
  },
  "language_info": {
   "codemirror_mode": {
    "name": "ipython",
    "version": 3
   },
   "file_extension": ".py",
   "mimetype": "text/x-python",
   "name": "python",
   "nbconvert_exporter": "python",
   "pygments_lexer": "ipython3",
   "version": "3.11.5"
  }
 },
 "nbformat": 4,
 "nbformat_minor": 5
}
